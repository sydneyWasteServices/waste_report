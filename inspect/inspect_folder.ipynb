{
 "cells": [
  {
   "cell_type": "code",
   "execution_count": 2,
   "metadata": {},
   "outputs": [],
   "source": [
    "import pandas as pd\n",
    "import numpy as np\n",
    "import os"
   ]
  },
  {
   "cell_type": "code",
   "execution_count": 4,
   "metadata": {},
   "outputs": [
    {
     "data": {
      "text/plain": [
       "'D:\\\\Run Analysis\\\\waste_reports\\\\current_waste_reports'"
      ]
     },
     "execution_count": 4,
     "metadata": {},
     "output_type": "execute_result"
    }
   ],
   "source": [
    "PATH = 'D:\\\\Run Analysis\\\\waste_reports\\\\current_waste_reports'\n",
    "    \n",
    "os.fspath(PATH)"
   ]
  },
  {
   "cell_type": "code",
   "execution_count": 16,
   "metadata": {},
   "outputs": [
    {
     "data": {
      "text/plain": [
       "array(['1345_100 Bayswater Road.xlsx', '1346_2 Lee Street.xlsx',\n",
       "       '1347_55 Shelley Street.xlsx', '1547_183 Coogee Bay Rd.xlsx',\n",
       "       '1683_22 Brookhollow Avenue.xlsx', '1870_69-73 Hall Street.xlsx',\n",
       "       '3291_81 Talavera Rd.xlsx', '3293_75 Harrington St.xlsx',\n",
       "       '3294_170 Reservoir Rd.xlsx', '3295_165 Phillip St.xlsx',\n",
       "       '3296_27-33 Wentworth Ave.xlsx', '3297_7-9 York St.xlsx',\n",
       "       '3303_111 Goulburn St.xlsx', '3464_100 Miller St.xlsx',\n",
       "       '3590_359 Crown St.xlsx', '3909_148 The Esplanade.xlsx',\n",
       "       '3992_45 Dooring St.xlsx', '4037_319-325 Sussex St.xlsx',\n",
       "       '4231_1 Queen St.xlsx', '4308_17 Bourke Rd.xlsx',\n",
       "       '4309_289 King St.xlsx', '4321_167 Macquarie Street.xlsx',\n",
       "       '4322_1 Holyman Avenue.xlsx', '4323_36 Argyle Street.xlsx',\n",
       "       '4326_74 Northbourne Avenue.xlsx', '4327_8 National Circuit.xlsx',\n",
       "       '4328_11 Giles Street.xlsx', '4329_189 Queen Street.xlsx',\n",
       "       '4330_88 Flinders Street.xlsx', '4332_328 Flinders Street.xlsx',\n",
       "       '4333_66 Aurora Lane.xlsx', '4334_9 Riverside Quay.xlsx',\n",
       "       '4335_630 Little Collins Street.xlsx', '4337_12 Steel Street.xlsx',\n",
       "       '4339_24 Mount Street.xlsx', '4370_1 Rogan St.xlsx',\n",
       "       '4378_74-80 Ivy St.xlsx', '4393_9 Alvan Street.xlsx',\n",
       "       '4399_289 King St.xlsx', '4457_185 Rosslyn Street.xlsx',\n",
       "       '4472_509 Flinders Lane.xlsx', '4547_280 George Street.xlsx',\n",
       "       '4581_99 City Road.xlsx'], dtype='<U35')"
      ]
     },
     "execution_count": 16,
     "metadata": {},
     "output_type": "execute_result"
    }
   ],
   "source": [
    "# os.geteuid()\n",
    "directory = os.scandir(PATH)\n",
    "filenames = list()\n",
    "\n",
    "\n",
    "for d in directory:\n",
    "    filenames.append(d.name)\n",
    "fileArr = np.array(filenames)"
   ]
  },
  {
   "cell_type": "code",
   "execution_count": null,
   "metadata": {},
   "outputs": [],
   "source": []
  },
  {
   "cell_type": "code",
   "execution_count": null,
   "metadata": {},
   "outputs": [],
   "source": [
    "os.listdir\n",
    "filename.endswith"
   ]
  },
  {
   "cell_type": "code",
   "execution_count": null,
   "metadata": {},
   "outputs": [],
   "source": []
  },
  {
   "cell_type": "code",
   "execution_count": null,
   "metadata": {},
   "outputs": [],
   "source": []
  },
  {
   "cell_type": "code",
   "execution_count": null,
   "metadata": {},
   "outputs": [],
   "source": []
  },
  {
   "cell_type": "code",
   "execution_count": null,
   "metadata": {},
   "outputs": [],
   "source": []
  },
  {
   "cell_type": "code",
   "execution_count": null,
   "metadata": {},
   "outputs": [],
   "source": []
  }
 ],
 "metadata": {
  "kernelspec": {
   "display_name": "Python 3",
   "language": "python",
   "name": "python3"
  },
  "language_info": {
   "codemirror_mode": {
    "name": "ipython",
    "version": 3
   },
   "file_extension": ".py",
   "mimetype": "text/x-python",
   "name": "python",
   "nbconvert_exporter": "python",
   "pygments_lexer": "ipython3",
   "version": "3.8.5"
  }
 },
 "nbformat": 4,
 "nbformat_minor": 4
}
